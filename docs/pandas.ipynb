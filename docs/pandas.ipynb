{
 "cells": [
  {
   "cell_type": "markdown",
   "source": [
    "## Importējam pandas"
   ],
   "metadata": {
    "collapsed": false,
    "pycharm": {
     "name": "#%% md\n"
    }
   }
  },
  {
   "cell_type": "markdown",
   "source": [
    "`pip install pandas`"
   ],
   "metadata": {
    "collapsed": false,
    "pycharm": {
     "name": "#%% md\n"
    }
   }
  },
  {
   "cell_type": "code",
   "execution_count": 1,
   "outputs": [],
   "source": [
    "import pandas as pd"
   ],
   "metadata": {
    "collapsed": false,
    "pycharm": {
     "name": "#%%\n"
    }
   }
  },
  {
   "cell_type": "code",
   "execution_count": 2,
   "outputs": [
    {
     "data": {
      "text/plain": "'1.4.4'"
     },
     "execution_count": 2,
     "metadata": {},
     "output_type": "execute_result"
    }
   ],
   "source": [
    "pd.__version__"
   ],
   "metadata": {
    "collapsed": false,
    "pycharm": {
     "name": "#%%\n"
    }
   }
  },
  {
   "cell_type": "markdown",
   "source": [
    "## Pandas objekti"
   ],
   "metadata": {
    "collapsed": false,
    "pycharm": {
     "name": "#%% md\n"
    }
   }
  },
  {
   "cell_type": "markdown",
   "metadata": {
    "collapsed": true,
    "pycharm": {
     "name": "#%% md\n"
    }
   },
   "source": [
    "### Series\n",
    "\n",
    "`pd.Series` - viendimensijas marķēts masīvs, kas spēj saturēt jebkāda veida datus."
   ]
  },
  {
   "cell_type": "markdown",
   "source": [
    "#### Inicializācija"
   ],
   "metadata": {
    "collapsed": false,
    "pycharm": {
     "name": "#%% md\n"
    }
   }
  },
  {
   "cell_type": "code",
   "execution_count": 3,
   "outputs": [
    {
     "data": {
      "text/plain": "0    a\n1    b\n2    c\n3    d\n4    e\n5    f\ndtype: object"
     },
     "execution_count": 3,
     "metadata": {},
     "output_type": "execute_result"
    }
   ],
   "source": [
    "# index = [0, 1, 2, 3, 4, 5] - default noteikts\n",
    "data = ['a', 'b', 'c', 'd', 'e', 'f']\n",
    "s = pd.Series(data) # s = pd.Series(data, index=index)\n",
    "s"
   ],
   "metadata": {
    "collapsed": false,
    "pycharm": {
     "name": "#%%\n"
    }
   }
  },
  {
   "cell_type": "markdown",
   "source": [
    "`data` šeit var būt:\n",
    "1. Python dict vai list\n",
    "2. ndarray (numpy masīvs)\n",
    "3. skalārais lielums (skaitlis) - šajā gadījumā `index` *ir nepieciešams*. Pandas atkārto doto skalāro lielumu pie visiem indeksiem."
   ],
   "metadata": {
    "collapsed": false,
    "pycharm": {
     "name": "#%% md\n"
    }
   }
  },
  {
   "cell_type": "markdown",
   "source": [
    "#### NumPy īpašības"
   ],
   "metadata": {
    "collapsed": false,
    "pycharm": {
     "name": "#%% md\n"
    }
   }
  },
  {
   "cell_type": "markdown",
   "source": [
    "`pd.Series` ir līdzīgs numpy masīvam. To var padod gandrīz visām numpy funkcijam."
   ],
   "metadata": {
    "collapsed": false,
    "pycharm": {
     "name": "#%% md\n"
    }
   }
  },
  {
   "cell_type": "code",
   "execution_count": 4,
   "outputs": [
    {
     "data": {
      "text/plain": "'a'"
     },
     "execution_count": 4,
     "metadata": {},
     "output_type": "execute_result"
    }
   ],
   "source": [
    "s[0]"
   ],
   "metadata": {
    "collapsed": false,
    "pycharm": {
     "name": "#%%\n"
    }
   }
  },
  {
   "cell_type": "code",
   "execution_count": 5,
   "outputs": [
    {
     "data": {
      "text/plain": "0    a\n1    b\n2    c\ndtype: object"
     },
     "execution_count": 5,
     "metadata": {},
     "output_type": "execute_result"
    }
   ],
   "source": [
    "s[:3]"
   ],
   "metadata": {
    "collapsed": false,
    "pycharm": {
     "name": "#%%\n"
    }
   }
  },
  {
   "cell_type": "code",
   "execution_count": 6,
   "outputs": [
    {
     "data": {
      "text/plain": "0    a\n1    b\n3    d\n4    e\n5    f\ndtype: object"
     },
     "execution_count": 6,
     "metadata": {},
     "output_type": "execute_result"
    }
   ],
   "source": [
    "s[s != 'c'] # s > s.median() jā s vērtības ir numeriskas"
   ],
   "metadata": {
    "collapsed": false,
    "pycharm": {
     "name": "#%%\n"
    }
   }
  },
  {
   "cell_type": "markdown",
   "source": [
    "### DataFrame"
   ],
   "metadata": {
    "collapsed": false,
    "pycharm": {
     "name": "#%% md\n"
    }
   }
  },
  {
   "cell_type": "markdown",
   "source": [
    "`pd.DataFrame` - Divdimensiju, izmēru mainīgi, potenciāli neviendabīgi tabulas dati.\n",
    "Datu struktūrā ir arī marķētas asis (rindas un kolonnas). Darbības var veikt gan kolonās, gan rindās. Var uzskatīt par `dict` līdzīgu konteineru `pd.Series` objektiem. Primāra Pandas datu struktūra."
   ],
   "metadata": {
    "collapsed": false,
    "pycharm": {
     "name": "#%% md\n"
    }
   }
  },
  {
   "cell_type": "markdown",
   "source": [
    "#### Inicializācija"
   ],
   "metadata": {
    "collapsed": false,
    "pycharm": {
     "name": "#%% md\n"
    }
   }
  },
  {
   "cell_type": "code",
   "execution_count": 7,
   "outputs": [],
   "source": [
    "import numpy as np"
   ],
   "metadata": {
    "collapsed": false,
    "pycharm": {
     "name": "#%%\n"
    }
   }
  },
  {
   "cell_type": "code",
   "execution_count": 8,
   "outputs": [
    {
     "data": {
      "text/plain": "   A          B    C  D      E    F\n0  0 2022-11-20  1.0  3   test  foo\n1  1 2022-11-20  1.0  3  train  foo\n2  2 2022-11-20  1.0  3   test  foo\n3  3 2022-11-20  1.0  3  train  foo",
      "text/html": "<div>\n<style scoped>\n    .dataframe tbody tr th:only-of-type {\n        vertical-align: middle;\n    }\n\n    .dataframe tbody tr th {\n        vertical-align: top;\n    }\n\n    .dataframe thead th {\n        text-align: right;\n    }\n</style>\n<table border=\"1\" class=\"dataframe\">\n  <thead>\n    <tr style=\"text-align: right;\">\n      <th></th>\n      <th>A</th>\n      <th>B</th>\n      <th>C</th>\n      <th>D</th>\n      <th>E</th>\n      <th>F</th>\n    </tr>\n  </thead>\n  <tbody>\n    <tr>\n      <th>0</th>\n      <td>0</td>\n      <td>2022-11-20</td>\n      <td>1.0</td>\n      <td>3</td>\n      <td>test</td>\n      <td>foo</td>\n    </tr>\n    <tr>\n      <th>1</th>\n      <td>1</td>\n      <td>2022-11-20</td>\n      <td>1.0</td>\n      <td>3</td>\n      <td>train</td>\n      <td>foo</td>\n    </tr>\n    <tr>\n      <th>2</th>\n      <td>2</td>\n      <td>2022-11-20</td>\n      <td>1.0</td>\n      <td>3</td>\n      <td>test</td>\n      <td>foo</td>\n    </tr>\n    <tr>\n      <th>3</th>\n      <td>3</td>\n      <td>2022-11-20</td>\n      <td>1.0</td>\n      <td>3</td>\n      <td>train</td>\n      <td>foo</td>\n    </tr>\n  </tbody>\n</table>\n</div>"
     },
     "execution_count": 8,
     "metadata": {},
     "output_type": "execute_result"
    }
   ],
   "source": [
    "df2 = pd.DataFrame({\n",
    "    \"A\" : [0, 1, 2, 3],\n",
    "    \"B\": pd.Timestamp(\"20221120\"),\n",
    "    \"C\": pd.Series(1, index=list(range(4)), dtype=\"float32\"),\n",
    "    \"D\": np.array([3] * 4, dtype=\"int32\"),\n",
    "    \"E\": pd.Categorical([\"test\", \"train\", \"test\", \"train\"]),\n",
    "    \"F\": \"foo\",\n",
    "})\n",
    "df2"
   ],
   "metadata": {
    "collapsed": false,
    "pycharm": {
     "name": "#%%\n"
    }
   }
  },
  {
   "cell_type": "code",
   "execution_count": 9,
   "outputs": [
    {
     "data": {
      "text/plain": "0    0\n1    1\n2    2\n3    3\nName: A, dtype: int64"
     },
     "execution_count": 9,
     "metadata": {},
     "output_type": "execute_result"
    }
   ],
   "source": [
    "df2[\"A\"]"
   ],
   "metadata": {
    "collapsed": false,
    "pycharm": {
     "name": "#%%\n"
    }
   }
  },
  {
   "cell_type": "code",
   "execution_count": 10,
   "outputs": [
    {
     "data": {
      "text/plain": "   A          B    C  D      E    F\n0  0 2022-11-20  1.0  3   test  foo\n1  1 2022-11-20  1.0  3  train  foo",
      "text/html": "<div>\n<style scoped>\n    .dataframe tbody tr th:only-of-type {\n        vertical-align: middle;\n    }\n\n    .dataframe tbody tr th {\n        vertical-align: top;\n    }\n\n    .dataframe thead th {\n        text-align: right;\n    }\n</style>\n<table border=\"1\" class=\"dataframe\">\n  <thead>\n    <tr style=\"text-align: right;\">\n      <th></th>\n      <th>A</th>\n      <th>B</th>\n      <th>C</th>\n      <th>D</th>\n      <th>E</th>\n      <th>F</th>\n    </tr>\n  </thead>\n  <tbody>\n    <tr>\n      <th>0</th>\n      <td>0</td>\n      <td>2022-11-20</td>\n      <td>1.0</td>\n      <td>3</td>\n      <td>test</td>\n      <td>foo</td>\n    </tr>\n    <tr>\n      <th>1</th>\n      <td>1</td>\n      <td>2022-11-20</td>\n      <td>1.0</td>\n      <td>3</td>\n      <td>train</td>\n      <td>foo</td>\n    </tr>\n  </tbody>\n</table>\n</div>"
     },
     "execution_count": 10,
     "metadata": {},
     "output_type": "execute_result"
    }
   ],
   "source": [
    "df2[0:2]"
   ],
   "metadata": {
    "collapsed": false,
    "pycharm": {
     "name": "#%%\n"
    }
   }
  },
  {
   "cell_type": "markdown",
   "source": [
    "#### Atlasīt pēc etiķētes"
   ],
   "metadata": {
    "collapsed": false
   }
  },
  {
   "cell_type": "markdown",
   "source": [
    "`pd.DataFreame.loc()` un `pd.DataFrame.at()`, lai atlasīt pēc \"etiķetēm\"."
   ],
   "metadata": {
    "collapsed": false,
    "pycharm": {
     "name": "#%% md\n"
    }
   }
  },
  {
   "cell_type": "code",
   "execution_count": 12,
   "outputs": [
    {
     "data": {
      "text/plain": "A                      0\nB    2022-11-20 00:00:00\nC                    1.0\nD                      3\nE                   test\nF                    foo\nName: 0, dtype: object"
     },
     "execution_count": 12,
     "metadata": {},
     "output_type": "execute_result"
    }
   ],
   "source": [
    "df2.loc[0]"
   ],
   "metadata": {
    "collapsed": false,
    "pycharm": {
     "name": "#%%\n"
    }
   }
  },
  {
   "cell_type": "code",
   "execution_count": 13,
   "outputs": [
    {
     "data": {
      "text/plain": "   A          B\n0  0 2022-11-20\n1  1 2022-11-20\n2  2 2022-11-20\n3  3 2022-11-20",
      "text/html": "<div>\n<style scoped>\n    .dataframe tbody tr th:only-of-type {\n        vertical-align: middle;\n    }\n\n    .dataframe tbody tr th {\n        vertical-align: top;\n    }\n\n    .dataframe thead th {\n        text-align: right;\n    }\n</style>\n<table border=\"1\" class=\"dataframe\">\n  <thead>\n    <tr style=\"text-align: right;\">\n      <th></th>\n      <th>A</th>\n      <th>B</th>\n    </tr>\n  </thead>\n  <tbody>\n    <tr>\n      <th>0</th>\n      <td>0</td>\n      <td>2022-11-20</td>\n    </tr>\n    <tr>\n      <th>1</th>\n      <td>1</td>\n      <td>2022-11-20</td>\n    </tr>\n    <tr>\n      <th>2</th>\n      <td>2</td>\n      <td>2022-11-20</td>\n    </tr>\n    <tr>\n      <th>3</th>\n      <td>3</td>\n      <td>2022-11-20</td>\n    </tr>\n  </tbody>\n</table>\n</div>"
     },
     "execution_count": 13,
     "metadata": {},
     "output_type": "execute_result"
    }
   ],
   "source": [
    "df2.loc[:, [\"A\", \"B\"]]"
   ],
   "metadata": {
    "collapsed": false,
    "pycharm": {
     "name": "#%%\n"
    }
   }
  },
  {
   "cell_type": "markdown",
   "source": [
    "Lai nolasīt skalāro lielumu."
   ],
   "metadata": {
    "collapsed": false,
    "pycharm": {
     "name": "#%% md\n"
    }
   }
  },
  {
   "cell_type": "code",
   "execution_count": 15,
   "outputs": [
    {
     "data": {
      "text/plain": "1.0"
     },
     "execution_count": 15,
     "metadata": {},
     "output_type": "execute_result"
    }
   ],
   "source": [
    "df2.loc[0, \"C\"]"
   ],
   "metadata": {
    "collapsed": false,
    "pycharm": {
     "name": "#%%\n"
    }
   }
  },
  {
   "cell_type": "markdown",
   "source": [
    "vai arī"
   ],
   "metadata": {
    "collapsed": false,
    "pycharm": {
     "name": "#%% md\n"
    }
   }
  },
  {
   "cell_type": "code",
   "execution_count": 16,
   "outputs": [
    {
     "data": {
      "text/plain": "1.0"
     },
     "execution_count": 16,
     "metadata": {},
     "output_type": "execute_result"
    }
   ],
   "source": [
    "df2.at[0, \"C\"]"
   ],
   "metadata": {
    "collapsed": false,
    "pycharm": {
     "name": "#%%\n"
    }
   }
  },
  {
   "cell_type": "markdown",
   "source": [
    "#### Atlase pēc pozīcijas\n",
    "\n",
    "`pd.DataFrame.iloc()` un `pd.DataFrame.iat()`"
   ],
   "metadata": {
    "collapsed": false,
    "pycharm": {
     "name": "#%% md\n"
    }
   }
  },
  {
   "cell_type": "code",
   "execution_count": 17,
   "outputs": [
    {
     "data": {
      "text/plain": "A                      2\nB    2022-11-20 00:00:00\nC                    1.0\nD                      3\nE                   test\nF                    foo\nName: 2, dtype: object"
     },
     "execution_count": 17,
     "metadata": {},
     "output_type": "execute_result"
    }
   ],
   "source": [
    "df2.iloc[2]"
   ],
   "metadata": {
    "collapsed": false,
    "pycharm": {
     "name": "#%%\n"
    }
   }
  },
  {
   "cell_type": "code",
   "execution_count": 18,
   "outputs": [
    {
     "data": {
      "text/plain": "           B    C\n0 2022-11-20  1.0\n3 2022-11-20  1.0",
      "text/html": "<div>\n<style scoped>\n    .dataframe tbody tr th:only-of-type {\n        vertical-align: middle;\n    }\n\n    .dataframe tbody tr th {\n        vertical-align: top;\n    }\n\n    .dataframe thead th {\n        text-align: right;\n    }\n</style>\n<table border=\"1\" class=\"dataframe\">\n  <thead>\n    <tr style=\"text-align: right;\">\n      <th></th>\n      <th>B</th>\n      <th>C</th>\n    </tr>\n  </thead>\n  <tbody>\n    <tr>\n      <th>0</th>\n      <td>2022-11-20</td>\n      <td>1.0</td>\n    </tr>\n    <tr>\n      <th>3</th>\n      <td>2022-11-20</td>\n      <td>1.0</td>\n    </tr>\n  </tbody>\n</table>\n</div>"
     },
     "execution_count": 18,
     "metadata": {},
     "output_type": "execute_result"
    }
   ],
   "source": [
    "df2.iloc[[0, 3],[1, 2]]"
   ],
   "metadata": {
    "collapsed": false,
    "pycharm": {
     "name": "#%%\n"
    }
   }
  },
  {
   "cell_type": "code",
   "execution_count": 22,
   "outputs": [
    {
     "data": {
      "text/plain": "Timestamp('2022-11-20 00:00:00')"
     },
     "execution_count": 22,
     "metadata": {},
     "output_type": "execute_result"
    }
   ],
   "source": [
    "df2.iloc[1, 1]"
   ],
   "metadata": {
    "collapsed": false,
    "pycharm": {
     "name": "#%%\n"
    }
   }
  },
  {
   "cell_type": "code",
   "execution_count": 21,
   "outputs": [
    {
     "data": {
      "text/plain": "Timestamp('2022-11-20 00:00:00')"
     },
     "execution_count": 21,
     "metadata": {},
     "output_type": "execute_result"
    }
   ],
   "source": [
    "df2.iat[1, 1]"
   ],
   "metadata": {
    "collapsed": false,
    "pycharm": {
     "name": "#%%\n"
    }
   }
  },
  {
   "cell_type": "markdown",
   "source": [
    "### Boolean indeksēšana"
   ],
   "metadata": {
    "collapsed": false,
    "pycharm": {
     "name": "#%% md\n"
    }
   }
  },
  {
   "cell_type": "markdown",
   "source": [
    "Lietojot vienas kolonnas vērtības."
   ],
   "metadata": {
    "collapsed": false
   }
  },
  {
   "cell_type": "code",
   "execution_count": 25,
   "outputs": [
    {
     "data": {
      "text/plain": "   A          B    C  D      E    F\n2  2 2022-11-20  1.0  3   test  foo\n3  3 2022-11-20  1.0  3  train  foo",
      "text/html": "<div>\n<style scoped>\n    .dataframe tbody tr th:only-of-type {\n        vertical-align: middle;\n    }\n\n    .dataframe tbody tr th {\n        vertical-align: top;\n    }\n\n    .dataframe thead th {\n        text-align: right;\n    }\n</style>\n<table border=\"1\" class=\"dataframe\">\n  <thead>\n    <tr style=\"text-align: right;\">\n      <th></th>\n      <th>A</th>\n      <th>B</th>\n      <th>C</th>\n      <th>D</th>\n      <th>E</th>\n      <th>F</th>\n    </tr>\n  </thead>\n  <tbody>\n    <tr>\n      <th>2</th>\n      <td>2</td>\n      <td>2022-11-20</td>\n      <td>1.0</td>\n      <td>3</td>\n      <td>test</td>\n      <td>foo</td>\n    </tr>\n    <tr>\n      <th>3</th>\n      <td>3</td>\n      <td>2022-11-20</td>\n      <td>1.0</td>\n      <td>3</td>\n      <td>train</td>\n      <td>foo</td>\n    </tr>\n  </tbody>\n</table>\n</div>"
     },
     "execution_count": 25,
     "metadata": {},
     "output_type": "execute_result"
    }
   ],
   "source": [
    "df2[df2[\"A\"] >= 2]"
   ],
   "metadata": {
    "collapsed": false,
    "pycharm": {
     "name": "#%%\n"
    }
   }
  },
  {
   "cell_type": "markdown",
   "source": [],
   "metadata": {
    "collapsed": false
   }
  },
  {
   "cell_type": "markdown",
   "source": [
    "### Datu mainīša"
   ],
   "metadata": {
    "collapsed": false,
    "pycharm": {
     "name": "#%% md\n"
    }
   }
  },
  {
   "cell_type": "code",
   "execution_count": 29,
   "outputs": [
    {
     "data": {
      "text/plain": "   A          B    C   D      E    F\n0  6 2022-11-20  7.0  35   test  foo\n1  1 2022-11-20  1.0  35  train  foo\n2  2 2022-11-20  1.0  35   test  foo\n3  3 2022-11-20  1.0  35  train  foo",
      "text/html": "<div>\n<style scoped>\n    .dataframe tbody tr th:only-of-type {\n        vertical-align: middle;\n    }\n\n    .dataframe tbody tr th {\n        vertical-align: top;\n    }\n\n    .dataframe thead th {\n        text-align: right;\n    }\n</style>\n<table border=\"1\" class=\"dataframe\">\n  <thead>\n    <tr style=\"text-align: right;\">\n      <th></th>\n      <th>A</th>\n      <th>B</th>\n      <th>C</th>\n      <th>D</th>\n      <th>E</th>\n      <th>F</th>\n    </tr>\n  </thead>\n  <tbody>\n    <tr>\n      <th>0</th>\n      <td>6</td>\n      <td>2022-11-20</td>\n      <td>7.0</td>\n      <td>35</td>\n      <td>test</td>\n      <td>foo</td>\n    </tr>\n    <tr>\n      <th>1</th>\n      <td>1</td>\n      <td>2022-11-20</td>\n      <td>1.0</td>\n      <td>35</td>\n      <td>train</td>\n      <td>foo</td>\n    </tr>\n    <tr>\n      <th>2</th>\n      <td>2</td>\n      <td>2022-11-20</td>\n      <td>1.0</td>\n      <td>35</td>\n      <td>test</td>\n      <td>foo</td>\n    </tr>\n    <tr>\n      <th>3</th>\n      <td>3</td>\n      <td>2022-11-20</td>\n      <td>1.0</td>\n      <td>35</td>\n      <td>train</td>\n      <td>foo</td>\n    </tr>\n  </tbody>\n</table>\n</div>"
     },
     "execution_count": 29,
     "metadata": {},
     "output_type": "execute_result"
    }
   ],
   "source": [
    "df2.at[0, \"A\"] = 6 # ar etiķeti\n",
    "df2.iat[0, 2] = 7 # ar pozīciju\n",
    "df2.loc[:, \"D\"] = np.array([35]*len(df2))\n",
    "df2"
   ],
   "metadata": {
    "collapsed": false,
    "pycharm": {
     "name": "#%%\n"
    }
   }
  },
  {
   "cell_type": "markdown",
   "source": [
    "## Datu trūkšana\n",
    "\n",
    "Pandas lieto `np.nan` tipu, lai reprezentēt trūkošus datus."
   ],
   "metadata": {
    "collapsed": false,
    "pycharm": {
     "name": "#%% md\n"
    }
   }
  },
  {
   "cell_type": "code",
   "execution_count": 33,
   "outputs": [
    {
     "data": {
      "text/plain": "   A          B    C   D      E    F     G\n0  6 2022-11-20  7.0  35   test  foo   NaN\n1  1 2022-11-20  1.0  35  train  foo  45.0\n2  2 2022-11-20  1.0  35   test  foo  45.0\n3  3 2022-11-20  1.0  35  train  foo   NaN",
      "text/html": "<div>\n<style scoped>\n    .dataframe tbody tr th:only-of-type {\n        vertical-align: middle;\n    }\n\n    .dataframe tbody tr th {\n        vertical-align: top;\n    }\n\n    .dataframe thead th {\n        text-align: right;\n    }\n</style>\n<table border=\"1\" class=\"dataframe\">\n  <thead>\n    <tr style=\"text-align: right;\">\n      <th></th>\n      <th>A</th>\n      <th>B</th>\n      <th>C</th>\n      <th>D</th>\n      <th>E</th>\n      <th>F</th>\n      <th>G</th>\n    </tr>\n  </thead>\n  <tbody>\n    <tr>\n      <th>0</th>\n      <td>6</td>\n      <td>2022-11-20</td>\n      <td>7.0</td>\n      <td>35</td>\n      <td>test</td>\n      <td>foo</td>\n      <td>NaN</td>\n    </tr>\n    <tr>\n      <th>1</th>\n      <td>1</td>\n      <td>2022-11-20</td>\n      <td>1.0</td>\n      <td>35</td>\n      <td>train</td>\n      <td>foo</td>\n      <td>45.0</td>\n    </tr>\n    <tr>\n      <th>2</th>\n      <td>2</td>\n      <td>2022-11-20</td>\n      <td>1.0</td>\n      <td>35</td>\n      <td>test</td>\n      <td>foo</td>\n      <td>45.0</td>\n    </tr>\n    <tr>\n      <th>3</th>\n      <td>3</td>\n      <td>2022-11-20</td>\n      <td>1.0</td>\n      <td>35</td>\n      <td>train</td>\n      <td>foo</td>\n      <td>NaN</td>\n    </tr>\n  </tbody>\n</table>\n</div>"
     },
     "execution_count": 33,
     "metadata": {},
     "output_type": "execute_result"
    }
   ],
   "source": [
    "df3 = df2.reindex(index=[0, 1, 2, 3], columns=list(df2.columns) + ['G'])\n",
    "df3.loc[1:2, 'G'] = 45\n",
    "df3"
   ],
   "metadata": {
    "collapsed": false,
    "pycharm": {
     "name": "#%%\n"
    }
   }
  },
  {
   "cell_type": "markdown",
   "source": [
    "`pd.DataFrame.dropna()` - nomet visas rindas, kurās trūkst datu.\n",
    "`pd.DataFrame.fillna()` - aizpilda trūkstošos datus."
   ],
   "metadata": {
    "collapsed": false
   }
  },
  {
   "cell_type": "code",
   "execution_count": 34,
   "outputs": [
    {
     "data": {
      "text/plain": "   A          B    C   D      E    F     G\n1  1 2022-11-20  1.0  35  train  foo  45.0\n2  2 2022-11-20  1.0  35   test  foo  45.0",
      "text/html": "<div>\n<style scoped>\n    .dataframe tbody tr th:only-of-type {\n        vertical-align: middle;\n    }\n\n    .dataframe tbody tr th {\n        vertical-align: top;\n    }\n\n    .dataframe thead th {\n        text-align: right;\n    }\n</style>\n<table border=\"1\" class=\"dataframe\">\n  <thead>\n    <tr style=\"text-align: right;\">\n      <th></th>\n      <th>A</th>\n      <th>B</th>\n      <th>C</th>\n      <th>D</th>\n      <th>E</th>\n      <th>F</th>\n      <th>G</th>\n    </tr>\n  </thead>\n  <tbody>\n    <tr>\n      <th>1</th>\n      <td>1</td>\n      <td>2022-11-20</td>\n      <td>1.0</td>\n      <td>35</td>\n      <td>train</td>\n      <td>foo</td>\n      <td>45.0</td>\n    </tr>\n    <tr>\n      <th>2</th>\n      <td>2</td>\n      <td>2022-11-20</td>\n      <td>1.0</td>\n      <td>35</td>\n      <td>test</td>\n      <td>foo</td>\n      <td>45.0</td>\n    </tr>\n  </tbody>\n</table>\n</div>"
     },
     "execution_count": 34,
     "metadata": {},
     "output_type": "execute_result"
    }
   ],
   "source": [
    "df3.dropna(how=\"any\")"
   ],
   "metadata": {
    "collapsed": false,
    "pycharm": {
     "name": "#%%\n"
    }
   }
  },
  {
   "cell_type": "markdown",
   "source": [
    "`pd.isna()` iegūst Boolean masku, kur vērtības ir Nan."
   ],
   "metadata": {
    "collapsed": false,
    "pycharm": {
     "name": "#%% md\n"
    }
   }
  },
  {
   "cell_type": "code",
   "execution_count": 38,
   "outputs": [
    {
     "data": {
      "text/plain": "       A      B      C      D      E      F      G\n0  False  False  False  False  False  False   True\n1  False  False  False  False  False  False  False\n2  False  False  False  False  False  False  False\n3  False  False  False  False  False  False   True",
      "text/html": "<div>\n<style scoped>\n    .dataframe tbody tr th:only-of-type {\n        vertical-align: middle;\n    }\n\n    .dataframe tbody tr th {\n        vertical-align: top;\n    }\n\n    .dataframe thead th {\n        text-align: right;\n    }\n</style>\n<table border=\"1\" class=\"dataframe\">\n  <thead>\n    <tr style=\"text-align: right;\">\n      <th></th>\n      <th>A</th>\n      <th>B</th>\n      <th>C</th>\n      <th>D</th>\n      <th>E</th>\n      <th>F</th>\n      <th>G</th>\n    </tr>\n  </thead>\n  <tbody>\n    <tr>\n      <th>0</th>\n      <td>False</td>\n      <td>False</td>\n      <td>False</td>\n      <td>False</td>\n      <td>False</td>\n      <td>False</td>\n      <td>True</td>\n    </tr>\n    <tr>\n      <th>1</th>\n      <td>False</td>\n      <td>False</td>\n      <td>False</td>\n      <td>False</td>\n      <td>False</td>\n      <td>False</td>\n      <td>False</td>\n    </tr>\n    <tr>\n      <th>2</th>\n      <td>False</td>\n      <td>False</td>\n      <td>False</td>\n      <td>False</td>\n      <td>False</td>\n      <td>False</td>\n      <td>False</td>\n    </tr>\n    <tr>\n      <th>3</th>\n      <td>False</td>\n      <td>False</td>\n      <td>False</td>\n      <td>False</td>\n      <td>False</td>\n      <td>False</td>\n      <td>True</td>\n    </tr>\n  </tbody>\n</table>\n</div>"
     },
     "execution_count": 38,
     "metadata": {},
     "output_type": "execute_result"
    }
   ],
   "source": [
    "pd.isna(df3)"
   ],
   "metadata": {
    "collapsed": false,
    "pycharm": {
     "name": "#%%\n"
    }
   }
  },
  {
   "cell_type": "markdown",
   "source": [
    "## Sapludināšana"
   ],
   "metadata": {
    "collapsed": false,
    "pycharm": {
     "name": "#%% md\n"
    }
   }
  },
  {
   "cell_type": "markdown",
   "source": [
    "`pd.concat()`"
   ],
   "metadata": {
    "collapsed": false,
    "pycharm": {
     "name": "#%% md\n"
    }
   }
  },
  {
   "cell_type": "code",
   "execution_count": 39,
   "outputs": [
    {
     "data": {
      "text/plain": "          0         1         2         3\n0 -0.447283  1.384789 -0.063153 -0.927522\n1 -0.209930 -0.096015 -0.937599 -1.083406\n2 -1.723681  0.688985  0.433831  0.036361\n3  1.520061 -0.078560 -0.594855  0.641931\n4  1.382112 -1.055073 -2.071356 -0.801706\n5 -0.051652  1.502204  1.145559 -0.897427\n6  0.334900  0.523530 -1.790507 -0.700380\n7  0.653533 -0.359861 -1.212141  0.917137\n8 -0.248704  0.813912  1.413434 -0.791541\n9 -0.433151 -0.752893  0.015147 -0.379796",
      "text/html": "<div>\n<style scoped>\n    .dataframe tbody tr th:only-of-type {\n        vertical-align: middle;\n    }\n\n    .dataframe tbody tr th {\n        vertical-align: top;\n    }\n\n    .dataframe thead th {\n        text-align: right;\n    }\n</style>\n<table border=\"1\" class=\"dataframe\">\n  <thead>\n    <tr style=\"text-align: right;\">\n      <th></th>\n      <th>0</th>\n      <th>1</th>\n      <th>2</th>\n      <th>3</th>\n    </tr>\n  </thead>\n  <tbody>\n    <tr>\n      <th>0</th>\n      <td>-0.447283</td>\n      <td>1.384789</td>\n      <td>-0.063153</td>\n      <td>-0.927522</td>\n    </tr>\n    <tr>\n      <th>1</th>\n      <td>-0.209930</td>\n      <td>-0.096015</td>\n      <td>-0.937599</td>\n      <td>-1.083406</td>\n    </tr>\n    <tr>\n      <th>2</th>\n      <td>-1.723681</td>\n      <td>0.688985</td>\n      <td>0.433831</td>\n      <td>0.036361</td>\n    </tr>\n    <tr>\n      <th>3</th>\n      <td>1.520061</td>\n      <td>-0.078560</td>\n      <td>-0.594855</td>\n      <td>0.641931</td>\n    </tr>\n    <tr>\n      <th>4</th>\n      <td>1.382112</td>\n      <td>-1.055073</td>\n      <td>-2.071356</td>\n      <td>-0.801706</td>\n    </tr>\n    <tr>\n      <th>5</th>\n      <td>-0.051652</td>\n      <td>1.502204</td>\n      <td>1.145559</td>\n      <td>-0.897427</td>\n    </tr>\n    <tr>\n      <th>6</th>\n      <td>0.334900</td>\n      <td>0.523530</td>\n      <td>-1.790507</td>\n      <td>-0.700380</td>\n    </tr>\n    <tr>\n      <th>7</th>\n      <td>0.653533</td>\n      <td>-0.359861</td>\n      <td>-1.212141</td>\n      <td>0.917137</td>\n    </tr>\n    <tr>\n      <th>8</th>\n      <td>-0.248704</td>\n      <td>0.813912</td>\n      <td>1.413434</td>\n      <td>-0.791541</td>\n    </tr>\n    <tr>\n      <th>9</th>\n      <td>-0.433151</td>\n      <td>-0.752893</td>\n      <td>0.015147</td>\n      <td>-0.379796</td>\n    </tr>\n  </tbody>\n</table>\n</div>"
     },
     "execution_count": 39,
     "metadata": {},
     "output_type": "execute_result"
    }
   ],
   "source": [
    "df4 = pd.DataFrame(np.random.randn(10, 4))\n",
    "df4"
   ],
   "metadata": {
    "collapsed": false,
    "pycharm": {
     "name": "#%%\n"
    }
   }
  },
  {
   "cell_type": "code",
   "execution_count": 40,
   "outputs": [
    {
     "data": {
      "text/plain": "[          0         1         2         3\n 0 -0.447283  1.384789 -0.063153 -0.927522\n 1 -0.209930 -0.096015 -0.937599 -1.083406\n 2 -1.723681  0.688985  0.433831  0.036361,\n           0         1         2         3\n 3  1.520061 -0.078560 -0.594855  0.641931\n 4  1.382112 -1.055073 -2.071356 -0.801706\n 5 -0.051652  1.502204  1.145559 -0.897427\n 6  0.334900  0.523530 -1.790507 -0.700380,\n           0         1         2         3\n 7  0.653533 -0.359861 -1.212141  0.917137\n 8 -0.248704  0.813912  1.413434 -0.791541\n 9 -0.433151 -0.752893  0.015147 -0.379796]"
     },
     "execution_count": 40,
     "metadata": {},
     "output_type": "execute_result"
    }
   ],
   "source": [
    "pieces = [df4[:3], df4[3:7], df4[7:]]\n",
    "pieces"
   ],
   "metadata": {
    "collapsed": false,
    "pycharm": {
     "name": "#%%\n"
    }
   }
  },
  {
   "cell_type": "code",
   "execution_count": 41,
   "outputs": [
    {
     "data": {
      "text/plain": "          0         1         2         3\n0 -0.447283  1.384789 -0.063153 -0.927522\n1 -0.209930 -0.096015 -0.937599 -1.083406\n2 -1.723681  0.688985  0.433831  0.036361\n3  1.520061 -0.078560 -0.594855  0.641931\n4  1.382112 -1.055073 -2.071356 -0.801706\n5 -0.051652  1.502204  1.145559 -0.897427\n6  0.334900  0.523530 -1.790507 -0.700380\n7  0.653533 -0.359861 -1.212141  0.917137\n8 -0.248704  0.813912  1.413434 -0.791541\n9 -0.433151 -0.752893  0.015147 -0.379796",
      "text/html": "<div>\n<style scoped>\n    .dataframe tbody tr th:only-of-type {\n        vertical-align: middle;\n    }\n\n    .dataframe tbody tr th {\n        vertical-align: top;\n    }\n\n    .dataframe thead th {\n        text-align: right;\n    }\n</style>\n<table border=\"1\" class=\"dataframe\">\n  <thead>\n    <tr style=\"text-align: right;\">\n      <th></th>\n      <th>0</th>\n      <th>1</th>\n      <th>2</th>\n      <th>3</th>\n    </tr>\n  </thead>\n  <tbody>\n    <tr>\n      <th>0</th>\n      <td>-0.447283</td>\n      <td>1.384789</td>\n      <td>-0.063153</td>\n      <td>-0.927522</td>\n    </tr>\n    <tr>\n      <th>1</th>\n      <td>-0.209930</td>\n      <td>-0.096015</td>\n      <td>-0.937599</td>\n      <td>-1.083406</td>\n    </tr>\n    <tr>\n      <th>2</th>\n      <td>-1.723681</td>\n      <td>0.688985</td>\n      <td>0.433831</td>\n      <td>0.036361</td>\n    </tr>\n    <tr>\n      <th>3</th>\n      <td>1.520061</td>\n      <td>-0.078560</td>\n      <td>-0.594855</td>\n      <td>0.641931</td>\n    </tr>\n    <tr>\n      <th>4</th>\n      <td>1.382112</td>\n      <td>-1.055073</td>\n      <td>-2.071356</td>\n      <td>-0.801706</td>\n    </tr>\n    <tr>\n      <th>5</th>\n      <td>-0.051652</td>\n      <td>1.502204</td>\n      <td>1.145559</td>\n      <td>-0.897427</td>\n    </tr>\n    <tr>\n      <th>6</th>\n      <td>0.334900</td>\n      <td>0.523530</td>\n      <td>-1.790507</td>\n      <td>-0.700380</td>\n    </tr>\n    <tr>\n      <th>7</th>\n      <td>0.653533</td>\n      <td>-0.359861</td>\n      <td>-1.212141</td>\n      <td>0.917137</td>\n    </tr>\n    <tr>\n      <th>8</th>\n      <td>-0.248704</td>\n      <td>0.813912</td>\n      <td>1.413434</td>\n      <td>-0.791541</td>\n    </tr>\n    <tr>\n      <th>9</th>\n      <td>-0.433151</td>\n      <td>-0.752893</td>\n      <td>0.015147</td>\n      <td>-0.379796</td>\n    </tr>\n  </tbody>\n</table>\n</div>"
     },
     "execution_count": 41,
     "metadata": {},
     "output_type": "execute_result"
    }
   ],
   "source": [
    "pd.concat(pieces)"
   ],
   "metadata": {
    "collapsed": false,
    "pycharm": {
     "name": "#%%\n"
    }
   }
  },
  {
   "cell_type": "markdown",
   "source": [
    "`pd.merge` - SQL līdzīgs"
   ],
   "metadata": {
    "collapsed": false,
    "pycharm": {
     "name": "#%% md\n"
    }
   }
  },
  {
   "cell_type": "code",
   "execution_count": 44,
   "outputs": [
    {
     "data": {
      "text/plain": "(   key  lval\n 0  foo     1\n 1  foo     2,\n    key  rval\n 0  foo     4\n 1  foo     5)"
     },
     "execution_count": 44,
     "metadata": {},
     "output_type": "execute_result"
    }
   ],
   "source": [
    "left = pd.DataFrame({\"key\": [\"foo\", \"foo\"], \"lval\": [1, 2]})\n",
    "right = pd.DataFrame({\"key\": [\"foo\", \"foo\"], \"rval\": [4, 5]})\n",
    "left, right"
   ],
   "metadata": {
    "collapsed": false,
    "pycharm": {
     "name": "#%%\n"
    }
   }
  },
  {
   "cell_type": "code",
   "execution_count": 45,
   "outputs": [
    {
     "data": {
      "text/plain": "   key  lval  rval\n0  foo     1     4\n1  foo     1     5\n2  foo     2     4\n3  foo     2     5",
      "text/html": "<div>\n<style scoped>\n    .dataframe tbody tr th:only-of-type {\n        vertical-align: middle;\n    }\n\n    .dataframe tbody tr th {\n        vertical-align: top;\n    }\n\n    .dataframe thead th {\n        text-align: right;\n    }\n</style>\n<table border=\"1\" class=\"dataframe\">\n  <thead>\n    <tr style=\"text-align: right;\">\n      <th></th>\n      <th>key</th>\n      <th>lval</th>\n      <th>rval</th>\n    </tr>\n  </thead>\n  <tbody>\n    <tr>\n      <th>0</th>\n      <td>foo</td>\n      <td>1</td>\n      <td>4</td>\n    </tr>\n    <tr>\n      <th>1</th>\n      <td>foo</td>\n      <td>1</td>\n      <td>5</td>\n    </tr>\n    <tr>\n      <th>2</th>\n      <td>foo</td>\n      <td>2</td>\n      <td>4</td>\n    </tr>\n    <tr>\n      <th>3</th>\n      <td>foo</td>\n      <td>2</td>\n      <td>5</td>\n    </tr>\n  </tbody>\n</table>\n</div>"
     },
     "execution_count": 45,
     "metadata": {},
     "output_type": "execute_result"
    }
   ],
   "source": [
    "pd.merge(left, right, on=\"key\")"
   ],
   "metadata": {
    "collapsed": false,
    "pycharm": {
     "name": "#%%\n"
    }
   }
  },
  {
   "cell_type": "markdown",
   "source": [
    "## Tabulas pagriezšana"
   ],
   "metadata": {
    "collapsed": false,
    "pycharm": {
     "name": "#%% md\n"
    }
   }
  },
  {
   "cell_type": "code",
   "execution_count": 46,
   "outputs": [
    {
     "data": {
      "text/plain": "   A          B    C   D      E    F     G\n0  6 2022-11-20  7.0  35   test  foo   NaN\n1  1 2022-11-20  1.0  35  train  foo  45.0\n2  2 2022-11-20  1.0  35   test  foo  45.0\n3  3 2022-11-20  1.0  35  train  foo   NaN",
      "text/html": "<div>\n<style scoped>\n    .dataframe tbody tr th:only-of-type {\n        vertical-align: middle;\n    }\n\n    .dataframe tbody tr th {\n        vertical-align: top;\n    }\n\n    .dataframe thead th {\n        text-align: right;\n    }\n</style>\n<table border=\"1\" class=\"dataframe\">\n  <thead>\n    <tr style=\"text-align: right;\">\n      <th></th>\n      <th>A</th>\n      <th>B</th>\n      <th>C</th>\n      <th>D</th>\n      <th>E</th>\n      <th>F</th>\n      <th>G</th>\n    </tr>\n  </thead>\n  <tbody>\n    <tr>\n      <th>0</th>\n      <td>6</td>\n      <td>2022-11-20</td>\n      <td>7.0</td>\n      <td>35</td>\n      <td>test</td>\n      <td>foo</td>\n      <td>NaN</td>\n    </tr>\n    <tr>\n      <th>1</th>\n      <td>1</td>\n      <td>2022-11-20</td>\n      <td>1.0</td>\n      <td>35</td>\n      <td>train</td>\n      <td>foo</td>\n      <td>45.0</td>\n    </tr>\n    <tr>\n      <th>2</th>\n      <td>2</td>\n      <td>2022-11-20</td>\n      <td>1.0</td>\n      <td>35</td>\n      <td>test</td>\n      <td>foo</td>\n      <td>45.0</td>\n    </tr>\n    <tr>\n      <th>3</th>\n      <td>3</td>\n      <td>2022-11-20</td>\n      <td>1.0</td>\n      <td>35</td>\n      <td>train</td>\n      <td>foo</td>\n      <td>NaN</td>\n    </tr>\n  </tbody>\n</table>\n</div>"
     },
     "execution_count": 46,
     "metadata": {},
     "output_type": "execute_result"
    }
   ],
   "source": [
    "df3"
   ],
   "metadata": {
    "collapsed": false,
    "pycharm": {
     "name": "#%%\n"
    }
   }
  },
  {
   "cell_type": "markdown",
   "source": [
    "`pd.pivot_table()`- pagriež DataFrame, norādot vērtības, indeksu un kolonnas."
   ],
   "metadata": {
    "collapsed": false
   }
  },
  {
   "cell_type": "code",
   "execution_count": 49,
   "outputs": [
    {
     "data": {
      "text/plain": "        A  B    C         D         E\n0     one  A  foo -0.411398  1.087969\n1     one  B  foo  1.198349 -0.001199\n2     two  C  foo  1.701842  0.099565\n3   three  A  bar  0.471690 -2.047281\n4     one  B  bar  0.189437  0.188792\n5     one  C  bar  1.404273 -2.337913\n6     two  A  foo  0.985771 -0.930050\n7   three  B  foo  0.176592  0.063136\n8     one  C  foo -0.847056 -0.243030\n9     one  A  bar -0.344232  0.957352\n10    two  B  bar -0.817635 -0.529134\n11  three  C  bar -0.812230 -1.403690",
      "text/html": "<div>\n<style scoped>\n    .dataframe tbody tr th:only-of-type {\n        vertical-align: middle;\n    }\n\n    .dataframe tbody tr th {\n        vertical-align: top;\n    }\n\n    .dataframe thead th {\n        text-align: right;\n    }\n</style>\n<table border=\"1\" class=\"dataframe\">\n  <thead>\n    <tr style=\"text-align: right;\">\n      <th></th>\n      <th>A</th>\n      <th>B</th>\n      <th>C</th>\n      <th>D</th>\n      <th>E</th>\n    </tr>\n  </thead>\n  <tbody>\n    <tr>\n      <th>0</th>\n      <td>one</td>\n      <td>A</td>\n      <td>foo</td>\n      <td>-0.411398</td>\n      <td>1.087969</td>\n    </tr>\n    <tr>\n      <th>1</th>\n      <td>one</td>\n      <td>B</td>\n      <td>foo</td>\n      <td>1.198349</td>\n      <td>-0.001199</td>\n    </tr>\n    <tr>\n      <th>2</th>\n      <td>two</td>\n      <td>C</td>\n      <td>foo</td>\n      <td>1.701842</td>\n      <td>0.099565</td>\n    </tr>\n    <tr>\n      <th>3</th>\n      <td>three</td>\n      <td>A</td>\n      <td>bar</td>\n      <td>0.471690</td>\n      <td>-2.047281</td>\n    </tr>\n    <tr>\n      <th>4</th>\n      <td>one</td>\n      <td>B</td>\n      <td>bar</td>\n      <td>0.189437</td>\n      <td>0.188792</td>\n    </tr>\n    <tr>\n      <th>5</th>\n      <td>one</td>\n      <td>C</td>\n      <td>bar</td>\n      <td>1.404273</td>\n      <td>-2.337913</td>\n    </tr>\n    <tr>\n      <th>6</th>\n      <td>two</td>\n      <td>A</td>\n      <td>foo</td>\n      <td>0.985771</td>\n      <td>-0.930050</td>\n    </tr>\n    <tr>\n      <th>7</th>\n      <td>three</td>\n      <td>B</td>\n      <td>foo</td>\n      <td>0.176592</td>\n      <td>0.063136</td>\n    </tr>\n    <tr>\n      <th>8</th>\n      <td>one</td>\n      <td>C</td>\n      <td>foo</td>\n      <td>-0.847056</td>\n      <td>-0.243030</td>\n    </tr>\n    <tr>\n      <th>9</th>\n      <td>one</td>\n      <td>A</td>\n      <td>bar</td>\n      <td>-0.344232</td>\n      <td>0.957352</td>\n    </tr>\n    <tr>\n      <th>10</th>\n      <td>two</td>\n      <td>B</td>\n      <td>bar</td>\n      <td>-0.817635</td>\n      <td>-0.529134</td>\n    </tr>\n    <tr>\n      <th>11</th>\n      <td>three</td>\n      <td>C</td>\n      <td>bar</td>\n      <td>-0.812230</td>\n      <td>-1.403690</td>\n    </tr>\n  </tbody>\n</table>\n</div>"
     },
     "execution_count": 49,
     "metadata": {},
     "output_type": "execute_result"
    }
   ],
   "source": [
    "df5 = pd.DataFrame(\n",
    "    {\n",
    "        \"A\": [\"one\", \"one\", \"two\", \"three\"] * 3,\n",
    "        \"B\": [\"A\", \"B\", \"C\"] * 4,\n",
    "        \"C\": [\"foo\", \"foo\", \"foo\", \"bar\", \"bar\", \"bar\"] * 2,\n",
    "        \"D\": np.random.randn(12),\n",
    "        \"E\": np.random.randn(12),\n",
    "    }\n",
    ")\n",
    "df5"
   ],
   "metadata": {
    "collapsed": false,
    "pycharm": {
     "name": "#%%\n"
    }
   }
  },
  {
   "cell_type": "code",
   "execution_count": 50,
   "outputs": [
    {
     "data": {
      "text/plain": "C             bar       foo\nA     B                    \none   A -0.344232 -0.411398\n      B  0.189437  1.198349\n      C  1.404273 -0.847056\nthree A  0.471690       NaN\n      B       NaN  0.176592\n      C -0.812230       NaN\ntwo   A       NaN  0.985771\n      B -0.817635       NaN\n      C       NaN  1.701842",
      "text/html": "<div>\n<style scoped>\n    .dataframe tbody tr th:only-of-type {\n        vertical-align: middle;\n    }\n\n    .dataframe tbody tr th {\n        vertical-align: top;\n    }\n\n    .dataframe thead th {\n        text-align: right;\n    }\n</style>\n<table border=\"1\" class=\"dataframe\">\n  <thead>\n    <tr style=\"text-align: right;\">\n      <th></th>\n      <th>C</th>\n      <th>bar</th>\n      <th>foo</th>\n    </tr>\n    <tr>\n      <th>A</th>\n      <th>B</th>\n      <th></th>\n      <th></th>\n    </tr>\n  </thead>\n  <tbody>\n    <tr>\n      <th rowspan=\"3\" valign=\"top\">one</th>\n      <th>A</th>\n      <td>-0.344232</td>\n      <td>-0.411398</td>\n    </tr>\n    <tr>\n      <th>B</th>\n      <td>0.189437</td>\n      <td>1.198349</td>\n    </tr>\n    <tr>\n      <th>C</th>\n      <td>1.404273</td>\n      <td>-0.847056</td>\n    </tr>\n    <tr>\n      <th rowspan=\"3\" valign=\"top\">three</th>\n      <th>A</th>\n      <td>0.471690</td>\n      <td>NaN</td>\n    </tr>\n    <tr>\n      <th>B</th>\n      <td>NaN</td>\n      <td>0.176592</td>\n    </tr>\n    <tr>\n      <th>C</th>\n      <td>-0.812230</td>\n      <td>NaN</td>\n    </tr>\n    <tr>\n      <th rowspan=\"3\" valign=\"top\">two</th>\n      <th>A</th>\n      <td>NaN</td>\n      <td>0.985771</td>\n    </tr>\n    <tr>\n      <th>B</th>\n      <td>-0.817635</td>\n      <td>NaN</td>\n    </tr>\n    <tr>\n      <th>C</th>\n      <td>NaN</td>\n      <td>1.701842</td>\n    </tr>\n  </tbody>\n</table>\n</div>"
     },
     "execution_count": 50,
     "metadata": {},
     "output_type": "execute_result"
    }
   ],
   "source": [
    "pd.pivot_table(df5, values=\"D\", index=[\"A\", \"B\"], columns=[\"C\"])"
   ],
   "metadata": {
    "collapsed": false,
    "pycharm": {
     "name": "#%%\n"
    }
   }
  },
  {
   "cell_type": "markdown",
   "source": [
    "## Grafiki"
   ],
   "metadata": {
    "collapsed": false,
    "pycharm": {
     "name": "#%% md\n"
    }
   }
  },
  {
   "cell_type": "code",
   "execution_count": 51,
   "outputs": [],
   "source": [
    "import matplotlib.pyplot as plt"
   ],
   "metadata": {
    "collapsed": false,
    "pycharm": {
     "name": "#%%\n"
    }
   }
  },
  {
   "cell_type": "code",
   "execution_count": 52,
   "outputs": [
    {
     "data": {
      "text/plain": "<Figure size 640x480 with 1 Axes>",
      "image/png": "[encoded data removed]"
     },
     "metadata": {},
     "output_type": "display_data"
    }
   ],
   "source": [
    "ts = pd.Series(np.random.randn(1000), index=pd.date_range(\"1/1/2000\", periods=1000))\n",
    "ts = ts.cumsum()\n",
    "ts.plot();"
   ],
   "metadata": {
    "collapsed": false,
    "pycharm": {
     "name": "#%%\n"
    }
   }
  },
  {
   "cell_type": "markdown",
   "source": [
    "## Datu importēšana un eksportēšanas\n",
    "\n",
    "Failu formati:\n",
    "* CSV\n",
    "* JSON\n",
    "* Excel\n",
    "* SQL\n",
    "* [un citi](https://pandas.pydata.org/docs/user_guide/io.html)\n",
    "\n",
    "Datu lasīšana:\n",
    "`pd.read_[faila formats]()`\n",
    "\n",
    "Datu eksportēšana:\n",
    "`pd.to_[faila formats](\"file_path\")`"
   ],
   "metadata": {
    "collapsed": false,
    "pycharm": {
     "name": "#%% md\n"
    }
   }
  }
 ],
 "metadata": {
  "kernelspec": {
   "display_name": "Python 3",
   "language": "python",
   "name": "python3"
  },
  "language_info": {
   "codemirror_mode": {
    "name": "ipython",
    "version": 2
   },
   "file_extension": ".py",
   "mimetype": "text/x-python",
   "name": "python",
   "nbconvert_exporter": "python",
   "pygments_lexer": "ipython2",
   "version": "2.7.6"
  }
 },
 "nbformat": 4,
 "nbformat_minor": 0
}